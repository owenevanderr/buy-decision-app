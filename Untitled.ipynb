{
 "cells": [
  {
   "cell_type": "code",
   "execution_count": 60,
   "id": "ae5fa7d5",
   "metadata": {},
   "outputs": [],
   "source": [
    "import pandas as pd\n",
    "from sklearn.preprocessing import StandardScaler, OneHotEncoder\n",
    "from sklearn.model_selection import train_test_split\n",
    "from sklearn.ensemble import RandomForestClassifier \n",
    "import pickle"
   ]
  },
  {
   "cell_type": "code",
   "execution_count": 61,
   "id": "a17100bb",
   "metadata": {},
   "outputs": [],
   "source": [
    "file_path = 'C:/Users/user/Untitled Folder 2/Data_Mitra_Kel_8.xlsx'\n",
    "df = pd.read_excel(file_path)"
   ]
  },
  {
   "cell_type": "code",
   "execution_count": 62,
   "id": "dbf0026a",
   "metadata": {},
   "outputs": [],
   "source": [
    "# Define numerical and categorical features\n",
    "numerical_features = ['Order Quantity', 'Unit Price ']\n",
    "categorical_features = ['Category', 'Delivery Location', 'Product Detail (type, material, color, size)', 'Price Category', 'Customer Name', 'Gender']"
   ]
  },
  {
   "cell_type": "code",
   "execution_count": 63,
   "id": "1dc3f884",
   "metadata": {},
   "outputs": [],
   "source": [
    "# Split the data into features and target variable\n",
    "X = df.drop(columns=['Buy Decision'])  # Replace 'Target Column' with your actual target column name\n",
    "y = df['Buy Decision']  # Replace 'Target Column' with your actual target column name"
   ]
  },
  {
   "cell_type": "code",
   "execution_count": 64,
   "id": "e8c2269f",
   "metadata": {},
   "outputs": [],
   "source": [
    "# Split the data into training and testing sets\n",
    "X_train, X_test, y_train, y_test = train_test_split(X, y, test_size=0.2, random_state=0)\n"
   ]
  },
  {
   "cell_type": "code",
   "execution_count": 65,
   "id": "5f4bbc77",
   "metadata": {},
   "outputs": [],
   "source": [
    "# Concatenate the training and testing data\n",
    "X_concatenated = pd.concat([X_train, X_test], axis=0)"
   ]
  },
  {
   "cell_type": "code",
   "execution_count": 66,
   "id": "497b015e",
   "metadata": {},
   "outputs": [],
   "source": [
    "# Initialize scalers and encoders\n",
    "scaler = StandardScaler()\n",
    "onehot_encoder = OneHotEncoder(sparse=False, drop='first')  # drop='first' to avoid multicollinearity"
   ]
  },
  {
   "cell_type": "code",
   "execution_count": 67,
   "id": "293d3ac9",
   "metadata": {},
   "outputs": [
    {
     "name": "stderr",
     "output_type": "stream",
     "text": [
      "C:\\Users\\user\\anaconda3\\lib\\site-packages\\sklearn\\preprocessing\\_encoders.py:975: FutureWarning: `sparse` was renamed to `sparse_output` in version 1.2 and will be removed in 1.4. `sparse_output` is ignored unless you leave `sparse` to its default value.\n",
      "  warnings.warn(\n"
     ]
    }
   ],
   "source": [
    "# Fit and transform the scaler and encoder on the concatenated data\n",
    "X_concatenated_numerical = scaler.fit_transform(X_concatenated[numerical_features])\n",
    "X_concatenated_categorical = onehot_encoder.fit_transform(X_concatenated[categorical_features])"
   ]
  },
  {
   "cell_type": "code",
   "execution_count": 68,
   "id": "5d08b22f",
   "metadata": {},
   "outputs": [],
   "source": [
    "# Split the transformed data back into training and testing sets\n",
    "X_train_numerical = X_concatenated_numerical[:len(X_train)]\n",
    "X_test_numerical = X_concatenated_numerical[len(X_train):]"
   ]
  },
  {
   "cell_type": "code",
   "execution_count": 69,
   "id": "c855b43b",
   "metadata": {},
   "outputs": [],
   "source": [
    "X_train_categorical = X_concatenated_categorical[:len(X_train)]\n",
    "X_test_categorical = X_concatenated_categorical[len(X_train):]"
   ]
  },
  {
   "cell_type": "code",
   "execution_count": 70,
   "id": "e9e141c8",
   "metadata": {},
   "outputs": [],
   "source": [
    "# Combine the processed numerical and categorical features\n",
    "X_train_processed = pd.DataFrame(X_train_numerical, columns=numerical_features).join(pd.DataFrame(X_train_categorical, columns=onehot_encoder.get_feature_names_out(categorical_features)))\n",
    "X_test_processed = pd.DataFrame(X_test_numerical, columns=numerical_features).join(pd.DataFrame(X_test_categorical, columns=onehot_encoder.get_feature_names_out(categorical_features)))\n"
   ]
  },
  {
   "cell_type": "code",
   "execution_count": 71,
   "id": "0bdcde8a",
   "metadata": {},
   "outputs": [
    {
     "data": {
      "text/html": [
       "<style>#sk-container-id-1 {color: black;}#sk-container-id-1 pre{padding: 0;}#sk-container-id-1 div.sk-toggleable {background-color: white;}#sk-container-id-1 label.sk-toggleable__label {cursor: pointer;display: block;width: 100%;margin-bottom: 0;padding: 0.3em;box-sizing: border-box;text-align: center;}#sk-container-id-1 label.sk-toggleable__label-arrow:before {content: \"▸\";float: left;margin-right: 0.25em;color: #696969;}#sk-container-id-1 label.sk-toggleable__label-arrow:hover:before {color: black;}#sk-container-id-1 div.sk-estimator:hover label.sk-toggleable__label-arrow:before {color: black;}#sk-container-id-1 div.sk-toggleable__content {max-height: 0;max-width: 0;overflow: hidden;text-align: left;background-color: #f0f8ff;}#sk-container-id-1 div.sk-toggleable__content pre {margin: 0.2em;color: black;border-radius: 0.25em;background-color: #f0f8ff;}#sk-container-id-1 input.sk-toggleable__control:checked~div.sk-toggleable__content {max-height: 200px;max-width: 100%;overflow: auto;}#sk-container-id-1 input.sk-toggleable__control:checked~label.sk-toggleable__label-arrow:before {content: \"▾\";}#sk-container-id-1 div.sk-estimator input.sk-toggleable__control:checked~label.sk-toggleable__label {background-color: #d4ebff;}#sk-container-id-1 div.sk-label input.sk-toggleable__control:checked~label.sk-toggleable__label {background-color: #d4ebff;}#sk-container-id-1 input.sk-hidden--visually {border: 0;clip: rect(1px 1px 1px 1px);clip: rect(1px, 1px, 1px, 1px);height: 1px;margin: -1px;overflow: hidden;padding: 0;position: absolute;width: 1px;}#sk-container-id-1 div.sk-estimator {font-family: monospace;background-color: #f0f8ff;border: 1px dotted black;border-radius: 0.25em;box-sizing: border-box;margin-bottom: 0.5em;}#sk-container-id-1 div.sk-estimator:hover {background-color: #d4ebff;}#sk-container-id-1 div.sk-parallel-item::after {content: \"\";width: 100%;border-bottom: 1px solid gray;flex-grow: 1;}#sk-container-id-1 div.sk-label:hover label.sk-toggleable__label {background-color: #d4ebff;}#sk-container-id-1 div.sk-serial::before {content: \"\";position: absolute;border-left: 1px solid gray;box-sizing: border-box;top: 0;bottom: 0;left: 50%;z-index: 0;}#sk-container-id-1 div.sk-serial {display: flex;flex-direction: column;align-items: center;background-color: white;padding-right: 0.2em;padding-left: 0.2em;position: relative;}#sk-container-id-1 div.sk-item {position: relative;z-index: 1;}#sk-container-id-1 div.sk-parallel {display: flex;align-items: stretch;justify-content: center;background-color: white;position: relative;}#sk-container-id-1 div.sk-item::before, #sk-container-id-1 div.sk-parallel-item::before {content: \"\";position: absolute;border-left: 1px solid gray;box-sizing: border-box;top: 0;bottom: 0;left: 50%;z-index: -1;}#sk-container-id-1 div.sk-parallel-item {display: flex;flex-direction: column;z-index: 1;position: relative;background-color: white;}#sk-container-id-1 div.sk-parallel-item:first-child::after {align-self: flex-end;width: 50%;}#sk-container-id-1 div.sk-parallel-item:last-child::after {align-self: flex-start;width: 50%;}#sk-container-id-1 div.sk-parallel-item:only-child::after {width: 0;}#sk-container-id-1 div.sk-dashed-wrapped {border: 1px dashed gray;margin: 0 0.4em 0.5em 0.4em;box-sizing: border-box;padding-bottom: 0.4em;background-color: white;}#sk-container-id-1 div.sk-label label {font-family: monospace;font-weight: bold;display: inline-block;line-height: 1.2em;}#sk-container-id-1 div.sk-label-container {text-align: center;}#sk-container-id-1 div.sk-container {/* jupyter's `normalize.less` sets `[hidden] { display: none; }` but bootstrap.min.css set `[hidden] { display: none !important; }` so we also need the `!important` here to be able to override the default hidden behavior on the sphinx rendered scikit-learn.org. See: https://github.com/scikit-learn/scikit-learn/issues/21755 */display: inline-block !important;position: relative;}#sk-container-id-1 div.sk-text-repr-fallback {display: none;}</style><div id=\"sk-container-id-1\" class=\"sk-top-container\"><div class=\"sk-text-repr-fallback\"><pre>RandomForestClassifier()</pre><b>In a Jupyter environment, please rerun this cell to show the HTML representation or trust the notebook. <br />On GitHub, the HTML representation is unable to render, please try loading this page with nbviewer.org.</b></div><div class=\"sk-container\" hidden><div class=\"sk-item\"><div class=\"sk-estimator sk-toggleable\"><input class=\"sk-toggleable__control sk-hidden--visually\" id=\"sk-estimator-id-1\" type=\"checkbox\" checked><label for=\"sk-estimator-id-1\" class=\"sk-toggleable__label sk-toggleable__label-arrow\">RandomForestClassifier</label><div class=\"sk-toggleable__content\"><pre>RandomForestClassifier()</pre></div></div></div></div></div>"
      ],
      "text/plain": [
       "RandomForestClassifier()"
      ]
     },
     "execution_count": 71,
     "metadata": {},
     "output_type": "execute_result"
    }
   ],
   "source": [
    "# Train the model\n",
    "best_model_simplified = RandomForestClassifier()  # Use RandomForestClassifier\n",
    "best_model_simplified.fit(X_train_processed, y_train)"
   ]
  },
  {
   "cell_type": "code",
   "execution_count": 72,
   "id": "2fbcb82a",
   "metadata": {},
   "outputs": [],
   "source": [
    "# Save the model\n",
    "with open('best_model.pkl', 'wb') as model_file:\n",
    "    pickle.dump(best_model_simplified, model_file)"
   ]
  },
  {
   "cell_type": "code",
   "execution_count": 73,
   "id": "a615e2e5",
   "metadata": {},
   "outputs": [],
   "source": [
    "# Save the scaler and encoder\n",
    "with open('scaler.pkl', 'wb') as scaler_file:\n",
    "    pickle.dump(scaler, scaler_file)\n",
    "with open('onehot_encoder.pkl', 'wb') as encoder_file, open('onehot_encoder.pkl', 'wb') as encoder_file:\n",
    "    pickle.dump(onehot_encoder, encoder_file)"
   ]
  },
  {
   "cell_type": "code",
   "execution_count": 74,
   "id": "3c2fd8cb",
   "metadata": {},
   "outputs": [
    {
     "name": "stdout",
     "output_type": "stream",
     "text": [
      "     Order Quantity Category                      Delivery Location  \\\n",
      "0                20      Oil                  Batam, Kepulauan Riau   \n",
      "1                 2      Oil             Palembang, Sumatra Selatan   \n",
      "2                 1      Oil  Tanjung Balai Karimun, Kepulauan Riau   \n",
      "3                 1      Oil                  Batam, Kepulauan Riau   \n",
      "4                 4      Oil                        Pekanbaru, Riau   \n",
      "..              ...      ...                                    ...   \n",
      "291               9      Oil                  Batam, Kepulauan Riau   \n",
      "292               1      Oil                        Pekanbaru, Riau   \n",
      "293               9  Battery                  Batam, Kepulauan Riau   \n",
      "294              62      Oil                  Batam, Kepulauan Riau   \n",
      "295              27     Tyre  Tanjung Balai Karimun, Kepulauan Riau   \n",
      "\n",
      "    Product Detail (type, material, color, size)  Unit Price  Price Category  \\\n",
      "0                                 Oli Mobil @Dus        85000         Medium   \n",
      "1                                  Oli Agip @Dus        50000          Cheap   \n",
      "2                                    Unilub @Dus        60000          Cheap   \n",
      "3                        Honda CVTF/ATF/HCF @Dus       125000      Expensive   \n",
      "4                                    i-Sint @Dus        85000         Medium   \n",
      "..                                           ...          ...            ...   \n",
      "291                      Honda CVTF/ATF/HCF @Dus       125000      Expensive   \n",
      "292                                  i-Sint @Dus        85000         Medium   \n",
      "293                                  Aki G Force       800000          Cheap   \n",
      "294                            Oli Filter Sakura        60000          Cheap   \n",
      "295                            Ban Gajah Tunggal       850000         Medium   \n",
      "\n",
      "       Customer Name  Gender Buy Decision  \n",
      "0         Ahmad Yadi    Male          Yes  \n",
      "1          Budi Tjie    Male          Yes  \n",
      "2       Asep Mulyadi    Male          Yes  \n",
      "3       Rini Susanti  Female           No  \n",
      "4       Agus Santoso    Male           No  \n",
      "..               ...     ...          ...  \n",
      "291     Rini Susanti  Female           No  \n",
      "292     Agus Santoso    Male          Yes  \n",
      "293         Rina Tan  Female          Yes  \n",
      "294     Agus Santoso    Male          Yes  \n",
      "295  Ucok Situmorang    Male          Yes  \n",
      "\n",
      "[296 rows x 9 columns]\n"
     ]
    }
   ],
   "source": [
    "print(df)"
   ]
  },
  {
   "cell_type": "code",
   "execution_count": null,
   "id": "c9a72a5b",
   "metadata": {},
   "outputs": [],
   "source": []
  }
 ],
 "metadata": {
  "kernelspec": {
   "display_name": "Python 3",
   "language": "python",
   "name": "python3"
  },
  "language_info": {
   "codemirror_mode": {
    "name": "ipython",
    "version": 3
   },
   "file_extension": ".py",
   "mimetype": "text/x-python",
   "name": "python",
   "nbconvert_exporter": "python",
   "pygments_lexer": "ipython3",
   "version": "3.8.8"
  }
 },
 "nbformat": 4,
 "nbformat_minor": 5
}
